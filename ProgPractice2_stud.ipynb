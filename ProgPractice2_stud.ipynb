{
  "nbformat": 4,
  "nbformat_minor": 0,
  "metadata": {
    "kernelspec": {
      "display_name": "Python 3",
      "language": "python",
      "name": "python3"
    },
    "language_info": {
      "codemirror_mode": {
        "name": "ipython",
        "version": 3
      },
      "file_extension": ".py",
      "mimetype": "text/x-python",
      "name": "python",
      "nbconvert_exporter": "python",
      "pygments_lexer": "ipython3",
      "version": "3.8.6"
    },
    "toc": {
      "base_numbering": 1,
      "nav_menu": {},
      "number_sections": false,
      "sideBar": false,
      "skip_h1_title": false,
      "title_cell": "Table of Contents",
      "title_sidebar": "Contents",
      "toc_cell": false,
      "toc_position": {
        "height": "830.4px",
        "left": "1576.4px",
        "top": "88.6px",
        "width": "409.6px"
      },
      "toc_section_display": true,
      "toc_window_display": true
    },
    "colab": {
      "name": "ProgPractice2-stud.ipynb",
      "provenance": [],
      "collapsed_sections": [],
      "include_colab_link": true
    }
  },
  "cells": [
    {
      "cell_type": "markdown",
      "metadata": {
        "id": "view-in-github",
        "colab_type": "text"
      },
      "source": [
        "<a href=\"https://colab.research.google.com/github/saapo-ka-baadshah/my_uni_work/blob/sem_2%2FDL/ProgPractice2_stud.ipynb\" target=\"_parent\"><img src=\"https://colab.research.google.com/assets/colab-badge.svg\" alt=\"Open In Colab\"/></a>"
      ]
    },
    {
      "cell_type": "markdown",
      "metadata": {
        "id": "6d_EtJr9BlVv"
      },
      "source": [
        "# Programming Practice II\n",
        "## 1 Overview\n",
        "In this practice, you are asked to implement a neural network with one hidden layer for regression using NumPy only. In particular, you are expected to learn to\n",
        "* implement simple activation functions;\n",
        "* get familiar with gradient descent algorithms;\n",
        "* get familiar with back-propagation algorithms in neural networks."
      ]
    },
    {
      "cell_type": "markdown",
      "metadata": {
        "id": "7xt9eveHBlV3"
      },
      "source": [
        "## 2 Tasks\n",
        "In this section, you can start the programming practice task by task. Please pay attention to the hints as well as the API documents available online."
      ]
    },
    {
      "cell_type": "code",
      "metadata": {
        "ExecuteTime": {
          "end_time": "2021-03-16T09:30:39.803664Z",
          "start_time": "2021-03-16T09:30:39.481455Z"
        },
        "id": "DZodoDVQBlV4"
      },
      "source": [
        "import numpy as np\n",
        "import matplotlib.pyplot as plt"
      ],
      "execution_count": 1,
      "outputs": []
    },
    {
      "cell_type": "markdown",
      "metadata": {
        "id": "ly45sbi8BlV5"
      },
      "source": [
        "### 2.1 Define Sigmoid Function"
      ]
    },
    {
      "cell_type": "code",
      "metadata": {
        "ExecuteTime": {
          "end_time": "2021-03-16T09:30:39.808596Z",
          "start_time": "2021-03-16T09:30:39.805621Z"
        },
        "id": "mwfKHwtRBlV6"
      },
      "source": [
        "def sigmoid(x):\n",
        "  return(1/(1+np.exp((-1)*x)))\n",
        "    # TODO"
      ],
      "execution_count": 2,
      "outputs": []
    },
    {
      "cell_type": "markdown",
      "metadata": {
        "id": "zp1wXzpsBlV6"
      },
      "source": [
        "### 2.2 Define Derivative of Sigmoid Function"
      ]
    },
    {
      "cell_type": "code",
      "metadata": {
        "ExecuteTime": {
          "end_time": "2021-03-16T09:30:39.820589Z",
          "start_time": "2021-03-16T09:30:39.811076Z"
        },
        "id": "_6dRaZ9NBlV7"
      },
      "source": [
        "def derivative_sigmoid(x):\n",
        "  temp = sigmoid(x)\n",
        "  return((1-temp)*temp)\n",
        "    # TODO\n",
        "\n",
        "\n"
      ],
      "execution_count": 3,
      "outputs": []
    },
    {
      "cell_type": "markdown",
      "metadata": {
        "id": "2Vuek9loBlV7"
      },
      "source": [
        "### 2.3 Plot Functions"
      ]
    },
    {
      "cell_type": "code",
      "metadata": {
        "ExecuteTime": {
          "end_time": "2021-03-16T09:30:40.004599Z",
          "start_time": "2021-03-16T09:30:39.822565Z"
        },
        "colab": {
          "base_uri": "https://localhost:8080/",
          "height": 265
        },
        "id": "Be97huEWBlV7",
        "outputId": "f5c46f1b-1e6a-457b-f470-e72280a29080"
      },
      "source": [
        "# TODO: plotting\n",
        "x = np.linspace(-5 , 5, 100, endpoint= True)\n",
        "sigmoid_x = sigmoid(x)\n",
        "_sigmoid_x = derivative_sigmoid(x)\n",
        "\n",
        "plt.plot(x, sigmoid_x, 'r')\n",
        "plt.plot(x, _sigmoid_x, 'b')\n",
        "plt.show()"
      ],
      "execution_count": 4,
      "outputs": [
        {
          "output_type": "display_data",
          "data": {
            "image/png": "[encoded data removed]",
            "text/plain": [
              "<Figure size 432x288 with 1 Axes>"
            ]
          },
          "metadata": {
            "tags": [],
            "needs_background": "light"
          }
        }
      ]
    },
    {
      "cell_type": "markdown",
      "metadata": {
        "id": "OC1Bm4jmBlV8"
      },
      "source": [
        "### 2.4 Define Neural Network"
      ]
    },
    {
      "cell_type": "code",
      "metadata": {
        "ExecuteTime": {
          "end_time": "2021-03-16T09:30:40.009557Z",
          "start_time": "2021-03-16T09:30:40.006084Z"
        },
        "colab": {
          "base_uri": "https://localhost:8080/"
        },
        "id": "rhBgulNpBlV8",
        "outputId": "45806910-b8d5-4839-edfa-76545789fad7"
      },
      "source": [
        "def forward_pass(x, w1, b1, w2, b2):\n",
        "  return(w2.T*(sigmoid(w1*x + b1)) + b2)\n",
        "    # TODO\n",
        "\n",
        "w2_s = np.array([1, 1, 1])\n",
        "b1_s = np.array([0,0,0])\n",
        "b2_s = np.array([0,0,0])\n",
        "w1_s = np.array([0.5, 0.5, 0.5])\n",
        "x_s = np.array([0.25, 0.5, 0.25])\n",
        "\n",
        "print(forward_pass(x_s, w1_s, b1_s, w2_s, b2_s))"
      ],
      "execution_count": 18,
      "outputs": [
        {
          "output_type": "stream",
          "text": [
            "[0.53120937 0.5621765  0.53120937]\n"
          ],
          "name": "stdout"
        }
      ]
    },
    {
      "cell_type": "markdown",
      "metadata": {
        "id": "IIaPd6VJBlV9"
      },
      "source": [
        "### 2.5 Define Loss Function"
      ]
    },
    {
      "cell_type": "code",
      "metadata": {
        "ExecuteTime": {
          "end_time": "2021-03-16T09:30:40.017492Z",
          "start_time": "2021-03-16T09:30:40.011541Z"
        },
        "id": "5dJG9BDABlV9"
      },
      "source": [
        "def mse(y_true, y_pred):\n",
        "  return(np.mean(np.square(y_true - y_pred)))\n",
        "    # TODO\n",
        "\n",
        "def derivative_mse(y_true, y_pred):\n",
        "  return((-2)*(y_true - y_pred))\n",
        "    # TODO"
      ],
      "execution_count": 6,
      "outputs": []
    },
    {
      "cell_type": "markdown",
      "metadata": {
        "id": "RgJ9gkLOBlV9"
      },
      "source": [
        "### 2.6 Define Gradient"
      ]
    },
    {
      "cell_type": "code",
      "metadata": {
        "ExecuteTime": {
          "end_time": "2021-03-16T09:30:40.026917Z",
          "start_time": "2021-03-16T09:30:40.019973Z"
        },
        "id": "xXm8veqsBlV-"
      },
      "source": [
        "def cal_gradient(x, y, y_hat, w1, b1, w2, b2):\n",
        "    # TODO\n",
        "    # return dLdw1, dLdb1, dLdw2, dLdb2\n",
        "    n = int(x.shape[0])\n",
        "    dLdw1 = (2/n)*((y_hat - y)*(w2.T*(derivative_sigmoid((w1*x) + b1))*w1)).sum()\n",
        "    dLdw2 = (2/n)*((y_hat - y)*(sigmoid((w1*x) + b1))).sum()\n",
        "    dLdb1 = (2/n)*((y_hat - y)*(w2.T*(derivative_sigmoid((w1*x) + b1)))).sum()\n",
        "    dLdw1 = (2/n)*((y_hat - y)).sum()\n",
        "    return([dLdw1, dLdb1, dLdw2, dLdb2])"
      ],
      "execution_count": 9,
      "outputs": []
    },
    {
      "cell_type": "markdown",
      "metadata": {
        "id": "ytjUjm-nBlV-"
      },
      "source": [
        "### 2.7 Update Weights"
      ]
    },
    {
      "cell_type": "code",
      "metadata": {
        "ExecuteTime": {
          "end_time": "2021-03-16T09:30:40.036340Z",
          "start_time": "2021-03-16T09:30:40.030389Z"
        },
        "id": "BCYuvcfVBlV_"
      },
      "source": [
        "def update_parameters(parameters, gradient, learning_rate):\n",
        "  return(parameters+(gradient*learning_rate))\n",
        "    # TODO"
      ],
      "execution_count": 10,
      "outputs": []
    },
    {
      "cell_type": "markdown",
      "metadata": {
        "id": "Un-Q8B-hBlV_"
      },
      "source": [
        "### 2.8 Train Network"
      ]
    },
    {
      "cell_type": "code",
      "metadata": {
        "id": "c6OnGSi3QT5R"
      },
      "source": [
        "# Toy Data set from PT1\n",
        "\n",
        "def create_toy_dataset(n_samples:int=100, dim:int=1, mean:int=0, sd:int=1, seed:int=42) -> np.array:\n",
        "    # TODO \n",
        "    # return X, Y\n",
        "    if(dim == 1):\n",
        "      X = np.linspace(-1 , 1, n_samples, endpoint= True)\n",
        "      Y = (0.1) * X + np.power(X, 2) + np.power(X, 3)\n",
        "      return(np.vstack((X.T,Y.T)))\n",
        "\n",
        "    np.random.seed(seed=seed)\n",
        "    X = np.random.normal(mean, sd, (n_samples, dim))\n",
        "    Y = np.sqrt(np.where(np.linalg.norm(X, axis=1)<1, 0, 1))\n",
        "    Y = Y.reshape((100,1))\n",
        "    R = np.hstack((X, Y))\n",
        "    return(R)\n",
        "    "
      ],
      "execution_count": 11,
      "outputs": []
    },
    {
      "cell_type": "code",
      "metadata": {
        "ExecuteTime": {
          "end_time": "2021-03-16T09:30:57.548781Z",
          "start_time": "2021-03-16T09:30:40.038821Z"
        },
        "colab": {
          "base_uri": "https://localhost:8080/"
        },
        "id": "-ynUN5GSBlV_",
        "outputId": "d8f2ba80-3fce-4b6c-a3df-cb5f500e4784"
      },
      "source": [
        "# TODO: datasets\n",
        "ds = create_toy_dataset()\n",
        "\n",
        "# TODO: hyperparameters\n",
        "lr = 0.01\n",
        "n_hiddern = 500\n",
        "epochs = 5000\n",
        "\n",
        "# TODO: parameter initialization\n",
        "w1 = np.random.random(0, 1, size=(1, n_hiddern))\n",
        "\n",
        "# TODO: training"
      ],
      "execution_count": 17,
      "outputs": [
        {
          "output_type": "stream",
          "text": [
            "100\n"
          ],
          "name": "stdout"
        }
      ]
    },
    {
      "cell_type": "markdown",
      "metadata": {
        "id": "PVCd3PIiBlWA"
      },
      "source": [
        "### 2.9 Plot Results"
      ]
    },
    {
      "cell_type": "code",
      "metadata": {
        "ExecuteTime": {
          "end_time": "2021-03-16T09:30:57.704013Z",
          "start_time": "2021-03-16T09:30:57.549746Z"
        },
        "id": "mRDATuDrBlWA"
      },
      "source": [
        "# TODO: plotting for comparison between the prediction and ground truth"
      ],
      "execution_count": null,
      "outputs": []
    },
    {
      "cell_type": "code",
      "metadata": {
        "ExecuteTime": {
          "end_time": "2021-03-16T09:30:57.804689Z",
          "start_time": "2021-03-16T09:30:57.705985Z"
        },
        "id": "inI2ASbzBlWA"
      },
      "source": [
        "# TODO: plotting for the loss"
      ],
      "execution_count": null,
      "outputs": []
    }
  ]
}