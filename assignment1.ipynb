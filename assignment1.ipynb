{
  "nbformat": 4,
  "nbformat_minor": 0,
  "metadata": {
    "accelerator": "GPU",
    "colab": {
      "name": "Simple_regression_task_latex.ipynb",
      "provenance": [],
      "collapsed_sections": [],
      "include_colab_link": true
    },
    "kernelspec": {
      "display_name": "Python 3",
      "language": "python",
      "name": "python3"
    },
    "language_info": {
      "codemirror_mode": {
        "name": "ipython",
        "version": 3
      },
      "file_extension": ".py",
      "mimetype": "text/x-python",
      "name": "python",
      "nbconvert_exporter": "python",
      "pygments_lexer": "ipython3",
      "version": "3.8.5"
    }
  },
  "cells": [
    {
      "cell_type": "markdown",
      "metadata": {
        "id": "view-in-github",
        "colab_type": "text"
      },
      "source": [
        "<a href=\"https://colab.research.google.com/github/saapo-ka-baadshah/my_uni_work/blob/sem_2%2FDL/assignment1.ipynb\" target=\"_parent\"><img src=\"https://colab.research.google.com/assets/colab-badge.svg\" alt=\"Open In Colab\"/></a>"
      ]
    },
    {
      "cell_type": "markdown",
      "metadata": {
        "id": "QjlEFdXpMgvw"
      },
      "source": [
        "# Deep learning programming I-A: Regression\n",
        "Felix Wiewel, Institute of Signal Processing and System Theory, University of Stuttgart, 08.02.2021\n",
        "###  Implementation\n",
        "\n",
        "In the following we consider a simple regression task, implement a neural network and train it based on the mathematical fomrulation above. For this we first need to create a set of input-output pairs, which then needs to be partitioned into a training, validation and test set. We also define some constants to be used for partitioning the data and the hyperparameters for our neural network.\n",
        "\n",
        "But before we can start, we need to import the necessary packages tensorflow, numpy and matplotlib."
      ]
    },
    {
      "cell_type": "code",
      "metadata": {
        "id": "CPuVp2lyNK2J"
      },
      "source": [
        "import tensorflow as tf\n",
        "import matplotlib.pyplot as plt\n",
        "import numpy as np"
      ],
      "execution_count": 5,
      "outputs": []
    },
    {
      "cell_type": "markdown",
      "metadata": {
        "id": "J84v9uucMgv5"
      },
      "source": [
        "Next we define our constants and set the random seeds of tensorflow and numpy in order to get reproducable results."
      ]
    },
    {
      "cell_type": "code",
      "metadata": {
        "id": "xwC-1OnHMgv7"
      },
      "source": [
        "N_train_samples = 600\n",
        "N_validation_samples = 100\n",
        "N_test_samples = 100\n",
        "N_samples = N_train_samples + N_validation_samples + N_test_samples\n",
        "noise_sig = 0.1\n",
        "N_epochs = 150\n",
        "batch_size = 8\n",
        "learning_rate = 0.01\n",
        "\n",
        "tf.random.set_seed(0)\n",
        "np.random.seed(0)"
      ],
      "execution_count": 117,
      "outputs": []
    },
    {
      "cell_type": "markdown",
      "metadata": {
        "id": "ngFFSyG-MgwA"
      },
      "source": [
        "We create $600$ training samples, $100$ validation samples to optimize our hyperparameters and $100$ test samples, which are used to check if our model can generalize to unseen data. Furthermore we set the level of noise added to the observations. For training the model we plan to train it for $150$ epochs with a batch size of $8$ and a learning rate of $0.01$. Next we create the actual input-output pairs $\\mathbf{x},\\mathbf{y}$ for which we want to learn the regression model and plot them. In this simple example we choose scalar inputs as well as output but in general $\\mathbf{x}$ and $\\mathbf{y}$ can be vectors."
      ]
    },
    {
      "cell_type": "code",
      "metadata": {
        "colab": {
          "base_uri": "https://localhost:8080/",
          "height": 265
        },
        "id": "4s8AtsdQMgwB",
        "outputId": "63a69615-dc10-4608-88c7-23286e2d59f1"
      },
      "source": [
        "x = np.linspace(0.0, 3.0, N_samples, dtype=np.float32)\n",
        "y = np.expand_dims(np.sin(1.0+x*x) + noise_sig*np.random.randn(N_samples).astype(np.float32), axis=-1)\n",
        "y_true = np.sin(1.0+x*x)\n",
        "\n",
        "plt.plot(x, y)\n",
        "plt.plot(x, y_true)\n",
        "plt.legend([\"Observation\", \"Ground truth\"])\n",
        "plt.show()"
      ],
      "execution_count": 118,
      "outputs": [
        {
          "output_type": "display_data",
          "data": {
            "image/png": "[encoded data removed]",
            "text/plain": [
              "<Figure size 432x288 with 1 Axes>"
            ]
          },
          "metadata": {
            "tags": [],
            "needs_background": "light"
          }
        }
      ]
    },
    {
      "cell_type": "markdown",
      "metadata": {
        "id": "Y3wx8vJlMgwI"
      },
      "source": [
        "With the input-output pairs created, your first task is now to partition the data in the training, validation and test sets. Keep in mind that we have created the data in a structured way, i.e. the input-output pairs are ordered. This means you need to shuffle the data before partitioning it."
      ]
    },
    {
      "cell_type": "code",
      "metadata": {
        "id": "kDIMUZs0MgwK"
      },
      "source": [
        "\"\"\" Shuffle and partition the data set accordingly. you can use the predefined constants \"N_train_samples\", \"N_validation_samples\" and \"N_test_samples\". Use the variable names that are already in the below code \n",
        "to store the final shuffled and partitioned data. Hint: Shuffle the data and the labels in such a way that the pairing between an image and it's label is preserved.\"\"\"\n",
        "# Shuffle the data\n",
        "ds = np.hstack((x.reshape((N_samples,1)),y))\n",
        "np.random.shuffle(ds)\n",
        "# Partition the data\n",
        "x_train = ds[0:N_train_samples, 0]\n",
        "y_train = ds[0:N_train_samples, 1]\n",
        "x_validation = ds[N_train_samples:N_train_samples+N_validation_samples, 0] \n",
        "y_validation = ds[N_train_samples:N_train_samples+N_validation_samples, 1]\n",
        "x_test = ds[N_train_samples+N_validation_samples:N_samples, 0]\n",
        "y_test = ds[N_train_samples+N_validation_samples:N_samples, 1]"
      ],
      "execution_count": 131,
      "outputs": []
    },
    {
      "cell_type": "markdown",
      "metadata": {
        "id": "-ucvKRhOMgwN"
      },
      "source": [
        "In order to feed the data to our model, we will use the Dataset class provided by Tensorflow. This class is simple to use and provides all the functionality we need for shuffling, batching and feeding the data to our model. It is also tightly integrated into the Tensorflow framework, which makes it very performant. Performance is not an aspect we need to worry about in this exercise, but it is important in more demanding applications.\n",
        "\n",
        "In this exercise we instantiate a separate Dataset object for the training, validation and test data sets, where we shuffle and repeat just the training data set. Shuffling the validation and test data sets is not necessary, since we only evaluate the loss on those data sets and do not perform SGD on it. Please fill in the missing part of the code."
      ]
    },
    {
      "cell_type": "code",
      "metadata": {
        "id": "HifQ63iPMgwP"
      },
      "source": [
        "\"\"\" Create three tensorflow Dataset objects that can be used to feed the training test and validation data to a neural network. Hint: For the training data set use shuffling, batching with the size according to\n",
        "the predefined constant \"batch_size\" and repeat the data set indefinetly. For the validation and test data sets no shuffling or batching is needed.\"\"\"\n",
        "\n",
        "train_ds = tf.data.Dataset.from_tensor_slices((x_train, y_train)).shuffle(batch_size, seed=0).batch(batch_size).repeat()\n",
        "validation_ds = tf.data.Dataset.from_tensor_slices((x_validation, y_validation))\n",
        "test_ds = tf.data.Dataset.from_tensor_slices((x_test, y_test))"
      ],
      "execution_count": 132,
      "outputs": []
    },
    {
      "cell_type": "markdown",
      "metadata": {
        "id": "5Crr6fIkMgwT"
      },
      "source": [
        "In this exercise we will create a a simple neural network with two hidden layers containing $10$ neurons. For creating a model and keeping track of its weights a class called MyModel is used. When initializing an instance of this class the necessary variables are created and stored in a list called \"trainable_variables\". This makes it easy to get all trainable variables of the model. We also override the \\__call__ method of this class in order to implement the forward pass of the neural network. This method should accept the inputs to the neural network and should return the result of the forward pass as an output. Please fill in the missing part of the code and select suitable activation functions for the different layers."
      ]
    },
    {
      "cell_type": "code",
      "metadata": {
        "id": "Nq8ri416MgwX"
      },
      "source": [
        "\"\"\" Implement a neural network with two hidden dense layers containing 10 neurons each. As an activation function use the tangens hyperbolicus (tf.nn.tanh()). Since we are not using Keras, we need to create and \n",
        "manage all the variables that we need ourselves. The varaibles are created in the constructor of our model class. Since we want to be able to just call the class with some inputs in order to make a prediction, \n",
        "we implement a __call__ method which computes the forward pass and returns the output of the network.\"\"\"\n",
        "\n",
        "class MyModel(object):\n",
        "    def __init__(self):\n",
        "        # Create model variables\n",
        "        w_init = tf.random_normal_initializer()\n",
        "        b_init = tf.zeros_initializer()\n",
        "        self.W0 = tf.Variable(\n",
        "            initial_value = w_init(shape=(1, 10), dtype=\"float32\"),\n",
        "            trainable = True\n",
        "        )\n",
        "        self.b0 = tf.Variable(\n",
        "            initial_value = b_init(shape=(10, ), dtype=\"float32\"),\n",
        "            trainable = True\n",
        "        )\n",
        "        self.W1 = tf.Variable(\n",
        "            initial_value = w_init(shape=(10, 10), dtype=\"float32\"),\n",
        "            trainable = True\n",
        "        )\n",
        "        self.b1 = tf.Variable(\n",
        "            initial_value = b_init(shape=(10, ), dtype=\"float32\"),\n",
        "            trainable = True\n",
        "        )\n",
        "        self.W2 = tf.Variable(\n",
        "            initial_value = w_init(shape=(10, 1), dtype=\"float32\"),\n",
        "            trainable = True\n",
        "        )\n",
        "        self.b2 = tf.Variable(\n",
        "            initial_value = b_init(shape=(1, ), dtype=\"float32\"),\n",
        "            trainable = True\n",
        "        )\n",
        "        self.trainable_variables = [self.W0, self.b0, self.W1, self.b1, self.W2, self.b2]\n",
        "\n",
        "    def __call__(self, inputs):\n",
        "        # Compute forward pass\n",
        "        output = tf.reshape(inputs, [-1, 1])\n",
        "        output = tf.nn.tanh(tf.matmul(output, self.W0)) + self.b0\n",
        "        output = tf.nn.tanh(tf.matmul(output, self.W1)) + self.b1\n",
        "        output = (tf.matmul(output, self.W2)) + self.b2\n",
        "        return output"
      ],
      "execution_count": 151,
      "outputs": []
    },
    {
      "cell_type": "markdown",
      "metadata": {
        "id": "uf6m8zXoMgwb"
      },
      "source": [
        "Now after the model class is defined we can instantiate a MyModel object by running"
      ]
    },
    {
      "cell_type": "code",
      "metadata": {
        "id": "nSfI8wjLMgwb"
      },
      "source": [
        "mdl = MyModel()"
      ],
      "execution_count": 152,
      "outputs": []
    },
    {
      "cell_type": "markdown",
      "metadata": {
        "id": "KraeH6MsMgwh"
      },
      "source": [
        "We can now use the model to make predictions by calling it. In the following we predict on the inputs an plot the result."
      ]
    },
    {
      "cell_type": "code",
      "metadata": {
        "colab": {
          "base_uri": "https://localhost:8080/",
          "height": 265
        },
        "id": "K1at5RObMgwi",
        "outputId": "13a39266-51e3-48be-e89c-01b33c0534aa"
      },
      "source": [
        "\"\"\" We want to plot a prediction on the complete data set with a model before training. For this make a prediction on the variable \"x\". \"\"\"\n",
        "\n",
        "y_pred = mdl(x)# Compute a prediction on the variable \"x\"\n",
        "plt.plot(x, y)\n",
        "plt.plot(x, y_true)\n",
        "plt.plot(x, y_pred.numpy())\n",
        "plt.legend([\"Observation\", \"Target\", \"Prediction\"])\n",
        "plt.show()"
      ],
      "execution_count": 153,
      "outputs": [
        {
          "output_type": "display_data",
          "data": {
            "image/png": "[encoded data removed]",
            "text/plain": [
              "<Figure size 432x288 with 1 Axes>"
            ]
          },
          "metadata": {
            "tags": [],
            "needs_background": "light"
          }
        }
      ]
    },
    {
      "cell_type": "markdown",
      "metadata": {
        "id": "utFkv4F3NULQ"
      },
      "source": [
        "Since we have initialized the variables of the neural network randomly, it's prediction is also random. In order to fit the model we need to minimize the expected mean squared error over all input-ouput pairs in our training data set. For this we need to create a function, that performs a training step when provided with the model, an optimizer and a batch of input-ouput pairs."
      ]
    },
    {
      "cell_type": "code",
      "metadata": {
        "id": "o4zFN0-kOdu7"
      },
      "source": [
        "\"\"\" For training we need to implement a function that executes one training step. Fill in the missing code pieces for this function.\"\"\"\n",
        "\n",
        "def train_step(model, optimizer, x, y):\n",
        "    with tf.GradientTape() as tape:\n",
        "        tape.watch(model.trainable_variables)\n",
        "        y_pred = model(x)                                                       # Compute a prediction with \"model\" on the input \"x\"\n",
        "        loss_val = tf.math.reduce_mean(\n",
        "            tf.math.squared_difference(y, y_pred)\n",
        "        )          # Compute the Mean Squared Error (MSE) for the prediction \"y_pred\" and the targets \"y\"\n",
        "    grads = tape.gradient(loss_val, model.trainable_variables)\n",
        "    optimizer.apply_gradients(zip(grads, model.trainable_variables))\n",
        "    return loss_val"
      ],
      "execution_count": 154,
      "outputs": []
    },
    {
      "cell_type": "markdown",
      "metadata": {
        "id": "Ax-Kfd-tOm7I"
      },
      "source": [
        "This function uses the GradientTape to record the operations for which gradients have to be calculated. In our case this is the forward pass through our model and the computation of the loss function. After these operations are recoded we can get their gradients and apply these through the use of an optimizer. Finally we return the loss value in order to print it.\n",
        "\n",
        "With the training step function defined we now need to choose a suitable optimizer. Tensorflow offers a wide variety of optimizers but in this exercise we will use the RMSprop optimizer."
      ]
    },
    {
      "cell_type": "code",
      "metadata": {
        "id": "PahsqMscPcKD"
      },
      "source": [
        "opt = tf.optimizers.RMSprop(learning_rate)"
      ],
      "execution_count": 155,
      "outputs": []
    },
    {
      "cell_type": "markdown",
      "metadata": {
        "id": "8_WjHrAwQB9e"
      },
      "source": [
        "We now have everything we need to start training the model. For this we repeatedly sample a batch of input-output pairs from our training data set and use the train_step function to minimize the loss function over this batch. We repeat this until we have iterated over the complete training data set once. After this we compute the loss on the validation data set, print it and repeat with another epoch until we have reached $N\\_epochs$ epochs."
      ]
    },
    {
      "cell_type": "code",
      "metadata": {
        "colab": {
          "base_uri": "https://localhost:8080/"
        },
        "id": "x3LqS3d_QrX6",
        "outputId": "4652049e-36cf-41f4-a0c3-efadd3925c8c"
      },
      "source": [
        "\"\"\" We can now use the train_step function to perform the training. Fill in the missing code parts.\"\"\"\n",
        "\n",
        "epoch = 0\n",
        "train_iters = 0\n",
        "train_loss = 0.0\n",
        "for x_t, y_t in train_ds:\n",
        "    train_loss += train_step(model=mdl, optimizer= opt, x=x_t, y=y_t)# Perform a training step with the model \"mdl\" and the optimizer \"opt\" on the inputs \"x_t\" and the corresponding targets \"y_t\"\n",
        "    train_iters += 1\n",
        "    if (epoch < N_epochs): # An epoch is completed\n",
        "        for x_v, y_v in validation_ds:\n",
        "            y_pred = mdl(x_v)# Compute a prediction with \"mdl\" on the input \"x_v\"\n",
        "            validation_loss = tf.math.reduce_mean(\n",
        "                tf.math.squared_difference(y_pred, y_v)\n",
        "            ) # Compute the Mean Squared Error (MSE) for the prediction \"y_pred\" and the targets \"y_v\"\n",
        "        print(\"Epoch: {} Train loss: {:.5} Validation loss: {:.5}\".format(epoch, train_loss/train_iters, validation_loss))\n",
        "        train_iters = 0\n",
        "        train_loss = 0.0\n",
        "        epoch += 1\n",
        "    if (epoch == N_epochs):\n",
        "        break"
      ],
      "execution_count": 156,
      "outputs": [
        {
          "output_type": "stream",
          "text": [
            "Epoch: 0 Train loss: 0.64496 Validation loss: 0.66686\n",
            "Epoch: 1 Train loss: 0.47464 Validation loss: 0.54556\n",
            "Epoch: 2 Train loss: 0.47678 Validation loss: 0.36858\n",
            "Epoch: 3 Train loss: 0.47822 Validation loss: 0.50733\n",
            "Epoch: 4 Train loss: 0.77674 Validation loss: 0.53347\n",
            "Epoch: 5 Train loss: 0.55735 Validation loss: 0.48817\n",
            "Epoch: 6 Train loss: 0.52772 Validation loss: 0.52652\n",
            "Epoch: 7 Train loss: 0.38002 Validation loss: 0.43489\n",
            "Epoch: 8 Train loss: 0.24095 Validation loss: 0.33359\n",
            "Epoch: 9 Train loss: 0.52672 Validation loss: 0.39626\n",
            "Epoch: 10 Train loss: 0.50585 Validation loss: 0.37744\n",
            "Epoch: 11 Train loss: 0.51209 Validation loss: 0.41056\n",
            "Epoch: 12 Train loss: 0.51619 Validation loss: 0.44352\n",
            "Epoch: 13 Train loss: 0.57324 Validation loss: 0.4402\n",
            "Epoch: 14 Train loss: 0.22247 Validation loss: 0.38536\n",
            "Epoch: 15 Train loss: 0.41655 Validation loss: 0.29755\n",
            "Epoch: 16 Train loss: 0.70922 Validation loss: 0.30088\n",
            "Epoch: 17 Train loss: 0.69874 Validation loss: 0.41881\n",
            "Epoch: 18 Train loss: 0.25152 Validation loss: 0.39373\n",
            "Epoch: 19 Train loss: 0.75991 Validation loss: 0.47994\n",
            "Epoch: 20 Train loss: 0.7346 Validation loss: 0.46607\n",
            "Epoch: 21 Train loss: 0.49634 Validation loss: 0.45691\n",
            "Epoch: 22 Train loss: 0.65126 Validation loss: 0.4036\n",
            "Epoch: 23 Train loss: 0.55968 Validation loss: 0.37582\n",
            "Epoch: 24 Train loss: 0.36282 Validation loss: 0.37862\n",
            "Epoch: 25 Train loss: 0.5518 Validation loss: 0.3582\n",
            "Epoch: 26 Train loss: 0.73876 Validation loss: 0.38302\n",
            "Epoch: 27 Train loss: 0.35466 Validation loss: 0.30274\n",
            "Epoch: 28 Train loss: 0.82286 Validation loss: 0.40487\n",
            "Epoch: 29 Train loss: 0.33829 Validation loss: 0.34383\n",
            "Epoch: 30 Train loss: 0.82099 Validation loss: 0.45764\n",
            "Epoch: 31 Train loss: 0.45322 Validation loss: 0.40752\n",
            "Epoch: 32 Train loss: 0.56049 Validation loss: 0.39024\n",
            "Epoch: 33 Train loss: 0.73089 Validation loss: 0.48037\n",
            "Epoch: 34 Train loss: 0.71103 Validation loss: 0.46831\n",
            "Epoch: 35 Train loss: 0.46287 Validation loss: 0.41485\n",
            "Epoch: 36 Train loss: 0.63362 Validation loss: 0.40545\n",
            "Epoch: 37 Train loss: 0.71908 Validation loss: 0.42463\n",
            "Epoch: 38 Train loss: 0.31254 Validation loss: 0.44696\n",
            "Epoch: 39 Train loss: 0.60336 Validation loss: 0.45251\n",
            "Epoch: 40 Train loss: 0.32263 Validation loss: 0.43266\n",
            "Epoch: 41 Train loss: 0.33022 Validation loss: 0.39265\n",
            "Epoch: 42 Train loss: 0.40988 Validation loss: 0.36929\n",
            "Epoch: 43 Train loss: 0.46771 Validation loss: 0.36326\n",
            "Epoch: 44 Train loss: 0.5971 Validation loss: 0.44578\n",
            "Epoch: 45 Train loss: 0.47838 Validation loss: 0.38935\n",
            "Epoch: 46 Train loss: 0.38815 Validation loss: 0.40509\n",
            "Epoch: 47 Train loss: 0.50597 Validation loss: 0.38409\n",
            "Epoch: 48 Train loss: 0.37343 Validation loss: 0.32457\n",
            "Epoch: 49 Train loss: 0.75655 Validation loss: 0.38231\n",
            "Epoch: 50 Train loss: 0.5679 Validation loss: 0.33152\n",
            "Epoch: 51 Train loss: 0.49574 Validation loss: 0.30073\n",
            "Epoch: 52 Train loss: 0.25096 Validation loss: 0.22796\n",
            "Epoch: 53 Train loss: 0.41345 Validation loss: 0.26127\n",
            "Epoch: 54 Train loss: 0.58941 Validation loss: 0.2918\n",
            "Epoch: 55 Train loss: 0.45434 Validation loss: 0.24565\n",
            "Epoch: 56 Train loss: 0.41207 Validation loss: 0.24424\n",
            "Epoch: 57 Train loss: 0.43321 Validation loss: 0.23881\n",
            "Epoch: 58 Train loss: 0.70523 Validation loss: 0.24577\n",
            "Epoch: 59 Train loss: 0.3219 Validation loss: 0.24663\n",
            "Epoch: 60 Train loss: 0.27191 Validation loss: 0.27554\n",
            "Epoch: 61 Train loss: 0.76238 Validation loss: 0.34334\n",
            "Epoch: 62 Train loss: 0.49096 Validation loss: 0.35094\n",
            "Epoch: 63 Train loss: 0.46705 Validation loss: 0.29819\n",
            "Epoch: 64 Train loss: 0.43405 Validation loss: 0.34475\n",
            "Epoch: 65 Train loss: 0.58507 Validation loss: 0.34242\n",
            "Epoch: 66 Train loss: 0.557 Validation loss: 0.32818\n",
            "Epoch: 67 Train loss: 1.058 Validation loss: 0.38543\n",
            "Epoch: 68 Train loss: 0.33729 Validation loss: 0.36536\n",
            "Epoch: 69 Train loss: 0.33412 Validation loss: 0.30336\n",
            "Epoch: 70 Train loss: 0.40681 Validation loss: 0.35123\n",
            "Epoch: 71 Train loss: 0.17857 Validation loss: 0.29987\n",
            "Epoch: 72 Train loss: 0.50651 Validation loss: 0.29027\n",
            "Epoch: 73 Train loss: 0.41419 Validation loss: 0.28428\n",
            "Epoch: 74 Train loss: 0.37859 Validation loss: 0.30179\n",
            "Epoch: 75 Train loss: 0.43704 Validation loss: 0.25851\n",
            "Epoch: 76 Train loss: 0.63842 Validation loss: 0.32099\n",
            "Epoch: 77 Train loss: 0.71029 Validation loss: 0.372\n",
            "Epoch: 78 Train loss: 0.28032 Validation loss: 0.33156\n",
            "Epoch: 79 Train loss: 0.43999 Validation loss: 0.30694\n",
            "Epoch: 80 Train loss: 0.62308 Validation loss: 0.35217\n",
            "Epoch: 81 Train loss: 0.69767 Validation loss: 0.40772\n",
            "Epoch: 82 Train loss: 0.31821 Validation loss: 0.36442\n",
            "Epoch: 83 Train loss: 0.32749 Validation loss: 0.33142\n",
            "Epoch: 84 Train loss: 0.3608 Validation loss: 0.24855\n",
            "Epoch: 85 Train loss: 0.61217 Validation loss: 0.32728\n",
            "Epoch: 86 Train loss: 0.48912 Validation loss: 0.34545\n",
            "Epoch: 87 Train loss: 0.49044 Validation loss: 0.36511\n",
            "Epoch: 88 Train loss: 0.29502 Validation loss: 0.33958\n",
            "Epoch: 89 Train loss: 0.40917 Validation loss: 0.28813\n",
            "Epoch: 90 Train loss: 0.47899 Validation loss: 0.28001\n",
            "Epoch: 91 Train loss: 0.67092 Validation loss: 0.27962\n",
            "Epoch: 92 Train loss: 0.57432 Validation loss: 0.33637\n",
            "Epoch: 93 Train loss: 0.55402 Validation loss: 0.34874\n",
            "Epoch: 94 Train loss: 0.53691 Validation loss: 0.36006\n",
            "Epoch: 95 Train loss: 0.68106 Validation loss: 0.36808\n",
            "Epoch: 96 Train loss: 0.50638 Validation loss: 0.36005\n",
            "Epoch: 97 Train loss: 0.53739 Validation loss: 0.35806\n",
            "Epoch: 98 Train loss: 0.61149 Validation loss: 0.2907\n",
            "Epoch: 99 Train loss: 0.52986 Validation loss: 0.30367\n",
            "Epoch: 100 Train loss: 0.251 Validation loss: 0.23585\n",
            "Epoch: 101 Train loss: 0.59426 Validation loss: 0.2936\n",
            "Epoch: 102 Train loss: 0.56906 Validation loss: 0.30907\n",
            "Epoch: 103 Train loss: 0.62874 Validation loss: 0.3389\n",
            "Epoch: 104 Train loss: 0.75903 Validation loss: 0.36865\n",
            "Epoch: 105 Train loss: 0.76224 Validation loss: 0.43531\n",
            "Epoch: 106 Train loss: 0.4825 Validation loss: 0.48416\n",
            "Epoch: 107 Train loss: 0.68249 Validation loss: 0.41375\n",
            "Epoch: 108 Train loss: 0.54017 Validation loss: 0.45727\n",
            "Epoch: 109 Train loss: 0.42913 Validation loss: 0.3761\n",
            "Epoch: 110 Train loss: 0.74231 Validation loss: 0.37571\n",
            "Epoch: 111 Train loss: 0.44216 Validation loss: 0.3408\n",
            "Epoch: 112 Train loss: 0.57964 Validation loss: 0.3641\n",
            "Epoch: 113 Train loss: 0.36289 Validation loss: 0.40212\n",
            "Epoch: 114 Train loss: 0.56651 Validation loss: 0.41638\n",
            "Epoch: 115 Train loss: 0.38714 Validation loss: 0.45372\n",
            "Epoch: 116 Train loss: 0.45115 Validation loss: 0.40035\n",
            "Epoch: 117 Train loss: 0.41364 Validation loss: 0.35186\n",
            "Epoch: 118 Train loss: 0.53259 Validation loss: 0.38685\n",
            "Epoch: 119 Train loss: 0.38787 Validation loss: 0.4152\n",
            "Epoch: 120 Train loss: 0.45339 Validation loss: 0.36589\n",
            "Epoch: 121 Train loss: 0.34027 Validation loss: 0.37829\n",
            "Epoch: 122 Train loss: 0.51417 Validation loss: 0.31822\n",
            "Epoch: 123 Train loss: 0.36224 Validation loss: 0.2747\n",
            "Epoch: 124 Train loss: 0.28011 Validation loss: 0.18192\n",
            "Epoch: 125 Train loss: 1.0784 Validation loss: 0.27774\n",
            "Epoch: 126 Train loss: 0.43274 Validation loss: 0.26289\n",
            "Epoch: 127 Train loss: 0.27747 Validation loss: 0.20158\n",
            "Epoch: 128 Train loss: 0.26358 Validation loss: 0.19544\n",
            "Epoch: 129 Train loss: 0.50228 Validation loss: 0.18114\n",
            "Epoch: 130 Train loss: 0.71682 Validation loss: 0.21688\n",
            "Epoch: 131 Train loss: 0.41019 Validation loss: 0.2422\n",
            "Epoch: 132 Train loss: 0.65293 Validation loss: 0.20916\n",
            "Epoch: 133 Train loss: 0.44124 Validation loss: 0.25143\n",
            "Epoch: 134 Train loss: 0.29025 Validation loss: 0.23458\n",
            "Epoch: 135 Train loss: 0.77902 Validation loss: 0.29453\n",
            "Epoch: 136 Train loss: 0.37795 Validation loss: 0.27466\n",
            "Epoch: 137 Train loss: 0.55396 Validation loss: 0.2865\n",
            "Epoch: 138 Train loss: 0.4756 Validation loss: 0.28979\n",
            "Epoch: 139 Train loss: 0.49082 Validation loss: 0.3276\n",
            "Epoch: 140 Train loss: 0.53714 Validation loss: 0.2787\n",
            "Epoch: 141 Train loss: 0.58405 Validation loss: 0.30158\n",
            "Epoch: 142 Train loss: 0.58712 Validation loss: 0.28653\n",
            "Epoch: 143 Train loss: 0.70361 Validation loss: 0.32614\n",
            "Epoch: 144 Train loss: 0.32868 Validation loss: 0.29301\n",
            "Epoch: 145 Train loss: 0.22527 Validation loss: 0.26514\n",
            "Epoch: 146 Train loss: 0.45048 Validation loss: 0.30525\n",
            "Epoch: 147 Train loss: 0.17885 Validation loss: 0.26815\n",
            "Epoch: 148 Train loss: 0.54781 Validation loss: 0.27322\n",
            "Epoch: 149 Train loss: 0.45299 Validation loss: 0.281\n"
          ],
          "name": "stdout"
        }
      ]
    },
    {
      "cell_type": "markdown",
      "metadata": {
        "id": "DduaR_pCQ0k-"
      },
      "source": [
        "After completion of the training process we use the test data set to test the models generalization to unseen data."
      ]
    },
    {
      "cell_type": "code",
      "metadata": {
        "colab": {
          "base_uri": "https://localhost:8080/"
        },
        "id": "3ofClNnHRAUy",
        "outputId": "4cb392dd-64ba-448a-eec1-05f38f78ebe4"
      },
      "source": [
        "for x_t, y_t in test_ds:\n",
        "    y_pred = mdl(x_t)# Compute a prediction with \"mdl\" on the input \"x_t\"\n",
        "    test_loss =tf.math.reduce_mean(\n",
        "                  tf.math.squared_difference(y_pred, y_t)\n",
        "                )\n",
        "    test_loss_new = np.square(y_pred.numpy() - y_t.numpy()).mean(axis=1)\n",
        "             # Compute the Mean Squared Error (MSE) for the prediction \"y_pred\" and the targets \"y_t\"\n",
        "print(\"Test loss: {:.5}\".format(test_loss))\n",
        "print(test_loss_new)\n"
      ],
      "execution_count": 158,
      "outputs": [
        {
          "output_type": "stream",
          "text": [
            "Test loss: 0.00023088\n",
            "[0.00023088]\n"
          ],
          "name": "stdout"
        }
      ]
    },
    {
      "cell_type": "markdown",
      "metadata": {
        "id": "NzJ7wOZmRbez"
      },
      "source": [
        "After we have verified that our model achieves a similar loss on the test as on the validation and training data set, we can conclude that our model is not overfitting or underfitting and generalizes to unseen data. We can now predict on the inputs again and plot the results."
      ]
    },
    {
      "cell_type": "code",
      "metadata": {
        "colab": {
          "base_uri": "https://localhost:8080/",
          "height": 265
        },
        "id": "tyvFN03bR8ez",
        "outputId": "4d17e343-cba3-4aea-ea93-a105c3e1aff2"
      },
      "source": [
        "\"\"\" Now we want to plot the prediction after training. Predict on the variable \"x\" again. \"\"\"\n",
        "\n",
        "y_pred = mdl(x)# Compute a prediction on the variable \"x\"\n",
        "plt.plot(x, y)\n",
        "plt.plot(x, y_true)\n",
        "plt.plot(x, y_pred.numpy())\n",
        "plt.legend([\"Observation\", \"Target\", \"Prediction\"])\n",
        "plt.show()"
      ],
      "execution_count": 159,
      "outputs": [
        {
          "output_type": "display_data",
          "data": {
            "image/png": "[encoded data removed]",
            "text/plain": [
              "<Figure size 432x288 with 1 Axes>"
            ]
          },
          "metadata": {
            "tags": [],
            "needs_background": "light"
          }
        }
      ]
    },
    {
      "cell_type": "markdown",
      "metadata": {
        "id": "WKmuAAmLSmiR"
      },
      "source": [
        "Now our model has learned to approximate the function mapping from the input to the output. The capability of neural networks to learn from input-ouput pairs alone and approximate an arbitrary function, see universal approximation theorem, can be very useful if the mapping between the input and output is too complex to be captured with model based approaches. But learning from input-ouput pairs alone implies that the model will only be able to make accurate predictions over input ranges it has seen during training. In order to demonstrate this we will predict on an interval that exeeds the $\\left[0,3\\right]$ interval the model was trained on, i.e. we will predict on the interval $\\left[-2,5\\right]$."
      ]
    },
    {
      "cell_type": "code",
      "metadata": {
        "colab": {
          "base_uri": "https://localhost:8080/",
          "height": 265
        },
        "id": "ZRF8hAmmVFcH",
        "outputId": "b58d919f-8615-48ef-bd67-eb321d9d30ac"
      },
      "source": [
        "x_generalize = np.linspace(-2.0, 5.0, N_samples, dtype=np.float32)\n",
        "y_generalize = np.sin(1.0+x_generalize*x_generalize) + noise_sig*np.random.randn(N_samples).astype(np.float32)\n",
        "y_truey_generalize = np.sin(1.0+x_generalize*x_generalize)\n",
        "y_pred = mdl(x_generalize)\n",
        "plt.plot(x_generalize, y_generalize)\n",
        "plt.plot(x_generalize, y_truey_generalize)\n",
        "plt.plot(x_generalize, y_pred.numpy())\n",
        "plt.legend([\"Observation\", \"Target\", \"Prediction\"])\n",
        "plt.show()"
      ],
      "execution_count": 160,
      "outputs": [
        {
          "output_type": "display_data",
          "data": {
            "image/png": "[encoded data removed]",
            "text/plain": [
              "<Figure size 432x288 with 1 Axes>"
            ]
          },
          "metadata": {
            "tags": [],
            "needs_background": "light"
          }
        }
      ]
    },
    {
      "cell_type": "markdown",
      "metadata": {
        "id": "J2yr-0UCVIli"
      },
      "source": [
        "As expected, the model is able to make farely accurate predictions on the interval it was trained on but makes unreliable predictions outside this interval.\n",
        "\n",
        "### Regularization\n",
        "With the theoretical background on regularization we can now implement it and observe it's effects on the regression problem covered in this exercise. For this we will define a model with a high capacity and train it for a extended time to provoke overfitting. For this, we will increase the number of hidden neurons in both hidden layers to $100$ and $50$."
      ]
    },
    {
      "cell_type": "code",
      "metadata": {
        "id": "T2Fv2J-VK_vw"
      },
      "source": [
        "\"\"\" Implement a bigger model with again two hidden layers contatining 100 and 50 neurons. As an activation use the tangens hyperbolicus function where it is appropiate. \"\"\"\n",
        "\n",
        "class MyBigModel(object):\n",
        "    def __init__(self):\n",
        "        # Create model variables\n",
        "        self.W0 = tf.Variable(\n",
        "            initial_value = w_init(shape=(1, 100), dtype=\"float32\"),\n",
        "            trainable = True\n",
        "        )\n",
        "        self.b0 = tf.Variable(\n",
        "            initial_value = b_init(shape=(100, ), dtype=\"float32\"),\n",
        "            trainable = True\n",
        "        )\n",
        "        self.W1 = tf.Variable(\n",
        "            initial_value = w_init(shape=(100, 50), dtype=\"float32\"),\n",
        "            trainable = True\n",
        "        )\n",
        "        self.b1 = tf.Variable(\n",
        "            initial_value = b_init(shape=(50, ), dtype=\"float32\"),\n",
        "            trainable = True\n",
        "        )\n",
        "        self.W2 = tf.Variable(\n",
        "            initial_value = w_init(shape=(50, 1), dtype=\"float32\"),\n",
        "            trainable = True\n",
        "        )\n",
        "        self.b2 = tf.Variable(\n",
        "            initial_value = b_init(shape=(1, ), dtype=\"float32\"),\n",
        "            trainable = True\n",
        "        )\n",
        "        self.trainable_variables = [self.W0, self.b0, self.W1, self.b1, self.W2, self.b2]\n",
        "\n",
        "    def __call__(self, inputs):\n",
        "        # Compute forward pass\n",
        "        output = tf.reshape(inputs, [-1, 1])\n",
        "        output = \n",
        "        output = \n",
        "        output = \n",
        "        return output"
      ],
      "execution_count": null,
      "outputs": []
    },
    {
      "cell_type": "markdown",
      "metadata": {
        "id": "Y1XpaZTNLV-p"
      },
      "source": [
        "After creating one instance of this class we can again train it on our data set. We will also create a new optimizer for training this bigger model, since some optimizers adapt the learning rates for individual parameters during a training process and we do not want to train our bigger model with learning rates adopted from an earlier training run."
      ]
    },
    {
      "cell_type": "code",
      "metadata": {
        "id": "b7Yq-a1FLi0X"
      },
      "source": [
        "big_mdl = MyBigModel()\n",
        "big_opt = tf.optimizers.SGD(learning_rate)"
      ],
      "execution_count": null,
      "outputs": []
    },
    {
      "cell_type": "markdown",
      "metadata": {
        "id": "dBrf0I68MnMy"
      },
      "source": [
        "Now we are ready to train this bigger model using the same training step and training loop. In order to provoke overfitting we also reduce the number of samples in the training data set a lot, increase the batch size and train for a more epochs."
      ]
    },
    {
      "cell_type": "code",
      "metadata": {
        "id": "Nz_lXM8LMwXo"
      },
      "source": [
        "\"\"\" Implement the training for the bigger model similar to the training of the small model before. \"\"\"\n",
        "\n",
        "N_train_samples_overfit = 30\n",
        "N_epochs = 1000\n",
        "batch_size = 30\n",
        "\n",
        "sel_idx = np.arange(0, N_train_samples)\n",
        "sel_idx = np.random.choice(sel_idx, N_train_samples_overfit)\n",
        "x_train_overfit = x_train[sel_idx]\n",
        "y_train_overfit = y_train[sel_idx]\n",
        "\n",
        "train_overfit_ds = tf.data.Dataset.from_tensor_slices((x_train_overfit, y_train_overfit)).shuffle(N_train_samples_overfit).batch(batch_size).repeat()\n",
        "\n",
        "epoch = 0\n",
        "train_iters = 0\n",
        "train_loss = 0.0\n",
        "for x_t, y_t in train_overfit_ds:\n",
        "    train_loss += # Perform a training step with the model \"big_mdl\" and the optimizer \"big_opt\" on the inputs \"x_t\" and the corresponding targets \"y_t\"\n",
        "    train_iters += 1\n",
        "    if # An epoch is completed\n",
        "        for x_v, y_v in validation_ds:\n",
        "            y_pred = # Compute a prediction with \"big_mdl\" on the input \"x_v\"\n",
        "            validation_loss = # Compute the Mean Squared Error (MSE) for the prediction \"y_pred\" and the targets \"y_v\"\n",
        "        print(\"Epoch: {} Train loss: {:.5} Validation loss: {:.5}\".format(epoch, train_loss/train_iters, validation_loss))\n",
        "        train_iters = 0\n",
        "        train_loss = 0.0\n",
        "        epoch += 1\n",
        "    if (epoch == N_epochs):\n",
        "        break"
      ],
      "execution_count": null,
      "outputs": []
    },
    {
      "cell_type": "markdown",
      "metadata": {
        "id": "gkaUDmA8Ps6w"
      },
      "source": [
        "Predicting with this model shows overfitting. For recognizing overfitting a comparison of the validation and training loss is very useful. If the training loss decreases during training while the validation loss consistently increases, the model you are training is probably overfitting. Plotting the models prediction and the target also shows that there is a significant discrepancy between the target and the prediction of the model."
      ]
    },
    {
      "cell_type": "code",
      "metadata": {
        "id": "3Sq-9xhWPxI4"
      },
      "source": [
        "y_pred = # Predict on x with \"big_mdl\"\n",
        "plt.scatter(x_train_overfit, y_train_overfit)\n",
        "plt.plot(x, y_true)\n",
        "plt.plot(x, y_pred.numpy())\n",
        "plt.legend([\"Target\", \"Prediction\", \"Training samples\"])\n",
        "plt.show()"
      ],
      "execution_count": null,
      "outputs": []
    },
    {
      "cell_type": "markdown",
      "metadata": {
        "id": "lZ36J2EN85b9"
      },
      "source": [
        "In order to implement a regularization we need to modify the loss function. Since the loss function in this exercise is computed during the training step, we define a new training step with a regularization."
      ]
    },
    {
      "cell_type": "code",
      "metadata": {
        "id": "sLbcWwlt9Jwl"
      },
      "source": [
        "\"\"\" In order to avoid overfitting we implement a training step that also includes a regularization on the weights of our big model. For this we use the Frobenius/squared l2-norm of each weight matrix/vector. \n",
        "Hint: Use the tf.reduce_sum() function on a list of individual regularization terms for each matrix/vector of the network.\"\"\"\n",
        "\n",
        "def regularized_train_step(model, optimizer, x, y, lmbd):\n",
        "    with tf.GradientTape() as tape:\n",
        "        tape.watch(model.trainable_variables)\n",
        "        y_pred = # Compute a prediction with \"model\" on the input \"x\"\n",
        "        loss_val = # Compute the Mean Squared Error (MSE) for the prediction \"y_pred\" and the targets \"y\"\n",
        "        regul_val = # Compute the regularization based on the list \"model.trainable_variables\"\n",
        "        total_loss = # Add the loss with a the regularization term weighted by \"lmbd\"\n",
        "    grads = tape.gradient(total_loss, model.trainable_variables)\n",
        "    optimizer.apply_gradients(zip(grads, model.trainable_variables))\n",
        "    return loss_val"
      ],
      "execution_count": null,
      "outputs": []
    },
    {
      "cell_type": "markdown",
      "metadata": {
        "id": "ExK4FIw89s0M"
      },
      "source": [
        "We can now set the strength of the regularization and retrain the big model with a regularization. We create another instance of the big model in order to compare the big model with and without regularization."
      ]
    },
    {
      "cell_type": "code",
      "metadata": {
        "id": "_PUUBGi496Vt"
      },
      "source": [
        "\"\"\" Implement the training for the bigger model with the regularized_train_step function. Note: We are plotting the MSE loss without the regularization in order to compare it with the unregularized model. \"\"\"\n",
        "\n",
        "lmbd = 0.005\n",
        "\n",
        "big_reg_mdl = MyBigModel()\n",
        "big_opt = tf.optimizers.SGD(learning_rate)\n",
        "\n",
        "epoch = 0\n",
        "train_iters = 0\n",
        "train_loss = 0.0\n",
        "for x_t, y_t in train_overfit_ds:\n",
        "    train_loss += # Perform a regularized training step with the model \"big_mdl\" and the optimizer \"big_opt\" on the inputs \"x_t\" and the corresponding targets \"y_t\" with the regularization parameter being \"lmbd\"\n",
        "    train_iters += 1\n",
        "    if # An epoch is completed\n",
        "        for x_v, y_v in validation_ds:\n",
        "            y_pred = # Compute a prediction with \"big_mdl\" on the input \"x_v\"\n",
        "            validation_loss = # Compute the Mean Squared Error (MSE) for the prediction \"y_pred\" and the targets \"y_v\"\n",
        "        print(\"Epoch: {} Train loss: {:.5} Validation loss: {:.5}\".format(epoch, train_loss/train_iters, validation_loss))\n",
        "        train_iters = 0\n",
        "        train_loss = 0.0\n",
        "        train_reg = 0.0\n",
        "        epoch += 1\n",
        "    if (epoch == N_epochs):\n",
        "        break"
      ],
      "execution_count": null,
      "outputs": []
    },
    {
      "cell_type": "markdown",
      "metadata": {
        "id": "ylr1C2ovWXbO"
      },
      "source": [
        "During the training of the regularized model we can already notice, that, although there is still a difference between training and validation loss, the validation loss decreases as the training loss dreases. The effect of the regularization becomes even more evident if we plot the predictions of the regularized model and the overfitting model."
      ]
    },
    {
      "cell_type": "code",
      "metadata": {
        "id": "UdMRV0vAWLmm"
      },
      "source": [
        "\"\"\" We now want to plot the prediction of the regularized and unregularized big model. \"\"\"\n",
        "\n",
        "y_pred = # Predict with \"big_reg_mdl\" on \"x\"\n",
        "y_pred_overfit = # Predict with \"reg_mdl\" on \"x\"\n",
        "plt.scatter(x_train_overfit, y_train_overfit)\n",
        "plt.plot(x, y_true)\n",
        "plt.plot(x, y_pred.numpy())\n",
        "plt.plot(x, y_pred_overfit.numpy())\n",
        "plt.legend([\"Target\", \"Regularization\", \"No regularization\", \"Training samples\"])\n",
        "plt.show()"
      ],
      "execution_count": null,
      "outputs": []
    },
    {
      "cell_type": "markdown",
      "metadata": {
        "id": "sePQBaGqZzT6"
      },
      "source": [
        "The model with regularization seems to follow the overall trend of the data, while the model without any regularization very precisely fits the training samples. This is espacilly evident in the interval $\\left[0,0.5\\right]$, where the prediction of the unregularized model shows an oscillating behavior. Such oscillations are however not present in the ground truth and therefore undesirable. The regularized model on the other hand is not as flexible as the unregularized model and therefore does not fit the target function well in the interval $\\left[2.25, 3.0\\right]$.\n",
        "\n",
        "## Conclusion\n",
        "In this exercise we revisited the mathematical background for a simple regression task and covered it's practical implementation in Tensorflow 2. We also explored the phenomenon of overfitting and derived different regularizations from a probabilistic perspective. This exercise covers a very simple task with a very basic neural architecture and is intended as a primer for the second part of the regression exercise, which is dealing with a bigger and more realistic problem. In this second part we will consider the problem of estimating the age of a person from a potrait picture."
      ]
    }
  ]
}