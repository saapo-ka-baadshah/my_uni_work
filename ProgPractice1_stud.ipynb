{
  "nbformat": 4,
  "nbformat_minor": 0,
  "metadata": {
    "kernelspec": {
      "display_name": "Python 3",
      "language": "python",
      "name": "python3"
    },
    "language_info": {
      "codemirror_mode": {
        "name": "ipython",
        "version": 3
      },
      "file_extension": ".py",
      "mimetype": "text/x-python",
      "name": "python",
      "nbconvert_exporter": "python",
      "pygments_lexer": "ipython3",
      "version": "3.8.6"
    },
    "toc": {
      "base_numbering": 1,
      "nav_menu": {},
      "number_sections": false,
      "sideBar": false,
      "skip_h1_title": false,
      "title_cell": "Table of Contents",
      "title_sidebar": "Contents",
      "toc_cell": false,
      "toc_position": {
        "height": "830.4px",
        "left": "22px",
        "top": "121.6px",
        "width": "409.6px"
      },
      "toc_section_display": true,
      "toc_window_display": true
    },
    "colab": {
      "name": "ProgPractice1-stud.ipynb",
      "provenance": [],
      "include_colab_link": true
    }
  },
  "cells": [
    {
      "cell_type": "markdown",
      "metadata": {
        "id": "view-in-github",
        "colab_type": "text"
      },
      "source": [
        "<a href=\"https://colab.research.google.com/github/saapo-ka-baadshah/my_uni_work/blob/sem_2%2FDL/ProgPractice1_stud.ipynb\" target=\"_parent\"><img src=\"https://colab.research.google.com/assets/colab-badge.svg\" alt=\"Open In Colab\"/></a>"
      ]
    },
    {
      "cell_type": "markdown",
      "metadata": {
        "id": "BAE5brd0yQrn"
      },
      "source": [
        "# Programming Practice I\n",
        "## 1 Overview\n",
        "In this practice, you can learn the basic knowledge of Python. In particular, by doing this practice, it is expected that you can:\n",
        "* get familiar with the basic syntax of Python;\n",
        "* get the basic idea of NumPy;\n",
        "* get the basic idea of Matplotlib for visualization."
      ]
    },
    {
      "cell_type": "markdown",
      "metadata": {
        "id": "PZkWPKgLyQrq"
      },
      "source": [
        "## 2 Tasks\n",
        "In this section, you can start the programming practice task by task. Please pay attention to the hints as well as the API documents online.\n",
        "\n",
        "### 2.1 Import Packages"
      ]
    },
    {
      "cell_type": "code",
      "metadata": {
        "ExecuteTime": {
          "end_time": "2021-03-16T09:28:55.967898Z",
          "start_time": "2021-03-16T09:28:55.647707Z"
        },
        "id": "g8GVgPKEyQrr"
      },
      "source": [
        "# TODO: import packages\n",
        "import numpy as np\n",
        "import matplotlib.pyplot as plt"
      ],
      "execution_count": 1,
      "outputs": []
    },
    {
      "cell_type": "markdown",
      "metadata": {
        "id": "wNFFttbiyQrs"
      },
      "source": [
        "### 2.2 1D Dataset"
      ]
    },
    {
      "cell_type": "code",
      "metadata": {
        "ExecuteTime": {
          "end_time": "2021-03-16T09:28:55.992192Z",
          "start_time": "2021-03-16T09:28:55.968890Z"
        },
        "id": "fR3zOPrNyQrs"
      },
      "source": [
        "# TODO: define datasets\n",
        "# X = \n",
        "# Y = \n",
        "\n",
        "def create_toy_dataset(n_samples:int=100, dim:int=1, mean:int=0, sd:int=1, seed:int=42) -> np.array:\n",
        "    # TODO \n",
        "    # return X, Y\n",
        "    if(dim == 1):\n",
        "      X = np.linspace(-1 , 1, n_samples, endpoint= True)\n",
        "      Y = (0.1) * X + np.power(X, 2) + np.power(X, 3)\n",
        "      return(np.vstack((X.T,Y.T)))\n",
        "\n",
        "    np.random.seed(seed=seed)\n",
        "    X = np.random.normal(mean, sd, (n_samples, dim))\n",
        "    Y = np.where(np.linalg.norm(X, axis=1)<1, 0, 1)\n",
        "    Y = Y.reshape((100,1))\n",
        "    R = np.hstack((X, Y))\n",
        "    return(R)\n",
        "    \n"
      ],
      "execution_count": 84,
      "outputs": []
    },
    {
      "cell_type": "markdown",
      "metadata": {
        "id": "KApxY3DMyQrs"
      },
      "source": [
        "### 2.3 Plot the 1D Dataset"
      ]
    },
    {
      "cell_type": "code",
      "metadata": {
        "ExecuteTime": {
          "end_time": "2021-03-16T09:28:56.117662Z",
          "start_time": "2021-03-16T09:28:55.996143Z"
        },
        "colab": {
          "base_uri": "https://localhost:8080/",
          "height": 265
        },
        "id": "Oy_PeTtryQrt",
        "outputId": "e05a9a45-6b55-40f3-97f4-a38a1291fbb4"
      },
      "source": [
        "# TODO: plotting\n",
        "ds = create_toy_dataset(n_samples=100)\n",
        "x = ds [0, :]\n",
        "y = ds [1, :]\n",
        "plt.plot(x, y)\n",
        "plt.show()"
      ],
      "execution_count": 72,
      "outputs": [
        {
          "output_type": "display_data",
          "data": {
            "image/png": "[encoded data removed]",
            "text/plain": [
              "<Figure size 432x288 with 1 Axes>"
            ]
          },
          "metadata": {
            "tags": [],
            "needs_background": "light"
          }
        }
      ]
    },
    {
      "cell_type": "markdown",
      "metadata": {
        "id": "mROGm8oJyQrt"
      },
      "source": [
        "### 2.4 2D Dataset"
      ]
    },
    {
      "cell_type": "code",
      "metadata": {
        "ExecuteTime": {
          "end_time": "2021-03-16T09:28:56.123131Z",
          "start_time": "2021-03-16T09:28:56.119151Z"
        },
        "id": "LEXELuhfyQrt"
      },
      "source": [
        "# TODO: define 2D dataset\n",
        "# X = 2D vector with initial seed to 42\n",
        "# Y = 2D output class belonging to {0, 1}\n",
        "# The dataset creation has already been defined in the create_toy_dataset method\n",
        "\n",
        "DS = create_toy_dataset(n_samples=100, dim= 2)\n",
        "\n"
      ],
      "execution_count": 110,
      "outputs": []
    },
    {
      "cell_type": "markdown",
      "metadata": {
        "id": "x4BDZirayQru"
      },
      "source": [
        "### 2.5 Plot the 2D Dataset"
      ]
    },
    {
      "cell_type": "code",
      "metadata": {
        "ExecuteTime": {
          "end_time": "2021-03-16T09:28:56.274959Z",
          "start_time": "2021-03-16T09:28:56.124607Z"
        },
        "colab": {
          "base_uri": "https://localhost:8080/",
          "height": 265
        },
        "id": "vao2v8bNyQru",
        "outputId": "2f6fc77b-ee00-4d83-c450-bdd732f613e4"
      },
      "source": [
        "# TODO: plotting\n",
        "\n",
        "DS_0_X = np.where(DS[:, -1]==0, DS[:, 0], None) \n",
        "DS_0_X = DS_0_X[DS_0_X != None]\n",
        "DS_0_Y = np.where(DS[:, -1]==0, DS[:, 1], None) \n",
        "DS_0_Y = DS_0_Y[DS_0_Y != None]\n",
        "\n",
        "DS_1_X = np.where(DS[:, -1]==1, DS[:, 0], None) \n",
        "DS_1_X = DS_1_X[DS_1_X != None]\n",
        "DS_1_Y = np.where(DS[:, -1]==1, DS[:, 1], None) \n",
        "DS_1_Y = DS_1_Y[DS_1_Y != None]\n",
        "\n",
        "\n",
        "plt.scatter(DS_0_X, DS_0_Y, marker=\"o\", c=\"blue\")\n",
        "plt.scatter(DS_1_X, DS_1_Y, marker=\"^\", c=\"red\")\n",
        "plt.show()"
      ],
      "execution_count": 111,
      "outputs": [
        {
          "output_type": "display_data",
          "data": {
            "image/png": "[encoded data removed]",
            "text/plain": [
              "<Figure size 432x288 with 1 Axes>"
            ]
          },
          "metadata": {
            "tags": [],
            "needs_background": "light"
          }
        }
      ]
    },
    {
      "cell_type": "markdown",
      "metadata": {
        "ExecuteTime": {
          "end_time": "2021-03-15T16:23:01.361072Z",
          "start_time": "2021-03-15T16:23:01.356636Z"
        },
        "id": "hG70QxvByQru"
      },
      "source": [
        "### 2.6 A Simple Convolution"
      ]
    },
    {
      "cell_type": "code",
      "metadata": {
        "ExecuteTime": {
          "end_time": "2021-03-16T09:28:56.285370Z",
          "start_time": "2021-03-16T09:28:56.276421Z"
        },
        "id": "TuZuF0wRyQrv"
      },
      "source": [
        "# TODO: simple convolution\n",
        "# X = \n",
        "# W = \n",
        "# X_conv => this is the output of the convolution \n",
        "# print(X_conv)\n",
        "\n",
        "\n",
        "def convolve(X, W):\n",
        "    # TODO\n",
        "    # return X_conv"
      ],
      "execution_count": null,
      "outputs": []
    },
    {
      "cell_type": "code",
      "metadata": {
        "id": "gUhfHYTGyQrv"
      },
      "source": [
        ""
      ],
      "execution_count": null,
      "outputs": []
    }
  ]
}